{
 "cells": [
  {
   "cell_type": "markdown",
   "metadata": {},
   "source": [
    "<h1>Creating a CNN to Find Forged Documents with very little data</h1>"
   ]
  },
  {
   "cell_type": "markdown",
   "metadata": {},
   "source": [
    "<h2 style=\"color:red\"> Training Phase </h2>"
   ]
  },
  {
   "cell_type": "markdown",
   "metadata": {},
   "source": [
    "<h4>Import Statements</h4>"
   ]
  },
  {
   "cell_type": "code",
   "execution_count": 9,
   "metadata": {},
   "outputs": [],
   "source": [
    "from keras.preprocessing.image import ImageDataGenerator\n",
    "from keras.models import Sequential\n",
    "from keras.layers import Conv2D, MaxPooling2D\n",
    "from keras.layers import Activation, Dropout, Flatten, Dense\n",
    "from keras import backend as K"
   ]
  },
  {
   "cell_type": "markdown",
   "metadata": {},
   "source": [
    "<h4> Having a common image size for all documents </h4>"
   ]
  },
  {
   "cell_type": "code",
   "execution_count": 10,
   "metadata": {
    "collapsed": true
   },
   "outputs": [],
   "source": [
    "img_width, img_height = 150, 150"
   ]
  },
  {
   "cell_type": "markdown",
   "metadata": {},
   "source": [
    "<h4> Splitting the Dataset into Training and Testing Dataset</h4>"
   ]
  },
  {
   "cell_type": "code",
   "execution_count": 18,
   "metadata": {
    "collapsed": true
   },
   "outputs": [],
   "source": [
    "train_data_dir = '/home/sreeram_0xb5e/Desktop/Classy/data/train'\n",
    "validation_data_dir = '/home/sreeram_0xb5e/Desktop/Classy/data/validation'\n",
    "nb_train_samples = 151\n",
    "nb_validation_samples = 20\n",
    "epochs = 50\n",
    "batch_size = 16"
   ]
  },
  {
   "cell_type": "code",
   "execution_count": 19,
   "metadata": {
    "collapsed": true
   },
   "outputs": [],
   "source": [
    "if K.image_data_format() == 'channels_first':\n",
    "    input_shape = (3, img_width, img_height)\n",
    "else:\n",
    "    input_shape = (img_width, img_height, 3)"
   ]
  },
  {
   "cell_type": "markdown",
   "metadata": {},
   "source": [
    "<h4> Designing and Training a CNN (Convolutional Neural Network) with five layers </h4>"
   ]
  },
  {
   "cell_type": "code",
   "execution_count": 20,
   "metadata": {
    "collapsed": true
   },
   "outputs": [],
   "source": [
    "model = Sequential()\n",
    "model.add(Conv2D(32, (3, 3), input_shape=input_shape))\n",
    "model.add(Activation('tanh'))\n",
    "model.add(MaxPooling2D(pool_size=(2, 2)))\n",
    "\n",
    "model.add(Conv2D(32, (2, 2)))\n",
    "model.add(Activation('tanh'))\n",
    "model.add(MaxPooling2D(pool_size=(2, 2)))\n",
    "\n",
    "model.add(Conv2D(32, (3, 3)))\n",
    "model.add(Activation('tanh'))\n",
    "model.add(MaxPooling2D(pool_size=(2, 2)))\n",
    "\n",
    "model.add(Conv2D(32, (2, 2)))\n",
    "model.add(Activation('tanh'))\n",
    "model.add(MaxPooling2D(pool_size=(2, 2)))\n",
    "\n",
    "model.add(Conv2D(64, (3, 3)))\n",
    "model.add(Activation('tanh'))\n",
    "model.add(MaxPooling2D(pool_size=(2, 2)))"
   ]
  },
  {
   "cell_type": "markdown",
   "metadata": {},
   "source": [
    "<h4>Generalising the Input images by performing basic operations on them</h4>"
   ]
  },
  {
   "cell_type": "code",
   "execution_count": 21,
   "metadata": {
    "collapsed": true
   },
   "outputs": [],
   "source": [
    "model.add(Flatten())\n",
    "model.add(Dense(64))\n",
    "model.add(Activation('tanh'))\n",
    "model.add(Dropout(0.5))\n",
    "model.add(Dense(1))\n",
    "model.add(Activation('sigmoid'))"
   ]
  },
  {
   "cell_type": "markdown",
   "metadata": {},
   "source": [
    "<h4>Compiling the Neural network with a Keras optimiser</h4>"
   ]
  },
  {
   "cell_type": "code",
   "execution_count": 22,
   "metadata": {
    "collapsed": true
   },
   "outputs": [],
   "source": [
    "model.compile(loss='binary_crossentropy',\n",
    "              optimizer='rmsprop',\n",
    "              metrics=['accuracy'])"
   ]
  },
  {
   "cell_type": "markdown",
   "metadata": {},
   "source": [
    "<h4>Choosing a Augmentation configuration for Training and Testing datasets</h4>"
   ]
  },
  {
   "cell_type": "code",
   "execution_count": 23,
   "metadata": {
    "collapsed": true
   },
   "outputs": [],
   "source": [
    "# this is the augmentation configuration we will use for training\n",
    "train_datagen = ImageDataGenerator(\n",
    "    rescale=1. / 255,\n",
    "    shear_range=0.2,\n",
    "    zoom_range=0.2,\n",
    "    horizontal_flip=True)\n",
    "\n",
    "# this is the augmentation configuration we will use for testing:\n",
    "# only rescaling\n",
    "test_datagen = ImageDataGenerator(rescale=1. / 255)\n"
   ]
  },
  {
   "cell_type": "markdown",
   "metadata": {},
   "source": [
    "<h4>Choosing the Parameters and training the CNN </h4>"
   ]
  },
  {
   "cell_type": "code",
   "execution_count": 24,
   "metadata": {},
   "outputs": [
    {
     "name": "stdout",
     "output_type": "stream",
     "text": [
      "Found 705 images belonging to 2 classes.\n",
      "Found 39 images belonging to 2 classes.\n"
     ]
    }
   ],
   "source": [
    "train_generator = train_datagen.flow_from_directory(\n",
    "    train_data_dir,\n",
    "    target_size=(img_width, img_height),\n",
    "    batch_size=batch_size,\n",
    "    class_mode='binary')\n",
    "\n",
    "validation_generator = test_datagen.flow_from_directory(\n",
    "    validation_data_dir,\n",
    "    target_size=(img_width, img_height),\n",
    "    batch_size=batch_size,\n",
    "    class_mode='binary')"
   ]
  },
  {
   "cell_type": "code",
   "execution_count": 25,
   "metadata": {},
   "outputs": [
    {
     "name": "stdout",
     "output_type": "stream",
     "text": [
      "Epoch 1/50\n",
      "9/9 [==============================] - 25s - loss: 0.7381 - acc: 0.6875 - val_loss: 1.0564 - val_acc: 0.4375\n",
      "Epoch 2/50\n",
      "9/9 [==============================] - 20s - loss: 0.6433 - acc: 0.7222 - val_loss: 0.6435 - val_acc: 0.8571\n",
      "Epoch 3/50\n",
      "9/9 [==============================] - 18s - loss: 0.5271 - acc: 0.7986 - val_loss: 1.2648 - val_acc: 0.4375\n",
      "Epoch 4/50\n",
      "9/9 [==============================] - 20s - loss: 0.5208 - acc: 0.7778 - val_loss: 0.8357 - val_acc: 0.5625\n",
      "Epoch 5/50\n",
      "9/9 [==============================] - 16s - loss: 0.6496 - acc: 0.6955 - val_loss: 0.7926 - val_acc: 0.5714\n",
      "Epoch 6/50\n",
      "9/9 [==============================] - 18s - loss: 0.5554 - acc: 0.7361 - val_loss: 0.7988 - val_acc: 0.5000\n",
      "Epoch 7/50\n",
      "9/9 [==============================] - 19s - loss: 0.6202 - acc: 0.6667 - val_loss: 0.9102 - val_acc: 0.3750\n",
      "Epoch 8/50\n",
      "9/9 [==============================] - 17s - loss: 0.5988 - acc: 0.7639 - val_loss: 0.7368 - val_acc: 0.5714\n",
      "Epoch 9/50\n",
      "9/9 [==============================] - 18s - loss: 0.4495 - acc: 0.8056 - val_loss: 0.8775 - val_acc: 0.5625\n",
      "Epoch 10/50\n",
      "9/9 [==============================] - 20s - loss: 0.6270 - acc: 0.7376 - val_loss: 0.8262 - val_acc: 0.5625\n",
      "Epoch 11/50\n",
      "9/9 [==============================] - 14s - loss: 0.5135 - acc: 0.7569 - val_loss: 0.6516 - val_acc: 0.4286\n",
      "Epoch 12/50\n",
      "9/9 [==============================] - 17s - loss: 0.5229 - acc: 0.7500 - val_loss: 0.6473 - val_acc: 0.6875\n",
      "Epoch 13/50\n",
      "9/9 [==============================] - 18s - loss: 0.5881 - acc: 0.6806 - val_loss: 0.7604 - val_acc: 0.6875\n",
      "Epoch 14/50\n",
      "9/9 [==============================] - 17s - loss: 0.3804 - acc: 0.8542 - val_loss: 1.1694 - val_acc: 0.5714\n",
      "Epoch 15/50\n",
      "9/9 [==============================] - 16s - loss: 0.4500 - acc: 0.8103 - val_loss: 0.7643 - val_acc: 0.6250\n",
      "Epoch 16/50\n",
      "9/9 [==============================] - 18s - loss: 0.4968 - acc: 0.7847 - val_loss: 0.6748 - val_acc: 0.6250\n",
      "Epoch 17/50\n",
      "9/9 [==============================] - 15s - loss: 0.5284 - acc: 0.7639 - val_loss: 0.6141 - val_acc: 0.7143\n",
      "Epoch 18/50\n",
      "9/9 [==============================] - 18s - loss: 0.4987 - acc: 0.7847 - val_loss: 0.6748 - val_acc: 0.6875\n",
      "Epoch 19/50\n",
      "9/9 [==============================] - 18s - loss: 0.4080 - acc: 0.8333 - val_loss: 1.6546 - val_acc: 0.4375\n",
      "Epoch 20/50\n",
      "9/9 [==============================] - 15s - loss: 0.5243 - acc: 0.8033 - val_loss: 0.4945 - val_acc: 0.7143\n",
      "Epoch 21/50\n",
      "9/9 [==============================] - 15s - loss: 0.4736 - acc: 0.8194 - val_loss: 0.8109 - val_acc: 0.5000\n",
      "Epoch 22/50\n",
      "9/9 [==============================] - 19s - loss: 0.4571 - acc: 0.7847 - val_loss: 0.8295 - val_acc: 0.6875\n",
      "Epoch 23/50\n",
      "9/9 [==============================] - 17s - loss: 0.4727 - acc: 0.7847 - val_loss: 0.8308 - val_acc: 0.7143\n",
      "Epoch 24/50\n",
      "9/9 [==============================] - 18s - loss: 0.4265 - acc: 0.8194 - val_loss: 0.6445 - val_acc: 0.6875\n",
      "Epoch 25/50\n",
      "9/9 [==============================] - 17s - loss: 0.4482 - acc: 0.8103 - val_loss: 1.2024 - val_acc: 0.5625\n",
      "Epoch 26/50\n",
      "9/9 [==============================] - 16s - loss: 0.4656 - acc: 0.7986 - val_loss: 1.0125 - val_acc: 0.4286\n",
      "Epoch 27/50\n",
      "9/9 [==============================] - 15s - loss: 0.4891 - acc: 0.7639 - val_loss: 0.5150 - val_acc: 0.7500\n",
      "Epoch 28/50\n",
      "9/9 [==============================] - 18s - loss: 0.4431 - acc: 0.8056 - val_loss: 1.0904 - val_acc: 0.5000\n",
      "Epoch 29/50\n",
      "9/9 [==============================] - 16s - loss: 0.4317 - acc: 0.8472 - val_loss: 0.2523 - val_acc: 0.8571\n",
      "Epoch 30/50\n",
      "9/9 [==============================] - 15s - loss: 0.4617 - acc: 0.7963 - val_loss: 0.9125 - val_acc: 0.6250\n",
      "Epoch 31/50\n",
      "9/9 [==============================] - 18s - loss: 0.3741 - acc: 0.8542 - val_loss: 0.4899 - val_acc: 0.7500\n",
      "Epoch 32/50\n",
      "9/9 [==============================] - 16s - loss: 0.4148 - acc: 0.8194 - val_loss: 0.6297 - val_acc: 0.5714\n",
      "Epoch 33/50\n",
      "9/9 [==============================] - 17s - loss: 0.4247 - acc: 0.8056 - val_loss: 0.5099 - val_acc: 0.7500\n",
      "Epoch 34/50\n",
      "9/9 [==============================] - 17s - loss: 0.3846 - acc: 0.8542 - val_loss: 0.9083 - val_acc: 0.5625\n",
      "Epoch 35/50\n",
      "9/9 [==============================] - 14s - loss: 0.4555 - acc: 0.7963 - val_loss: 0.3045 - val_acc: 0.8571\n",
      "Epoch 36/50\n",
      "9/9 [==============================] - 16s - loss: 0.4086 - acc: 0.8472 - val_loss: 0.9545 - val_acc: 0.6875\n",
      "Epoch 37/50\n",
      "9/9 [==============================] - 19s - loss: 0.4301 - acc: 0.8333 - val_loss: 0.5455 - val_acc: 0.7500\n",
      "Epoch 38/50\n",
      "9/9 [==============================] - 15s - loss: 0.3714 - acc: 0.8611 - val_loss: 0.5343 - val_acc: 0.7143\n",
      "Epoch 39/50\n",
      "9/9 [==============================] - 17s - loss: 0.4945 - acc: 0.7917 - val_loss: 0.4281 - val_acc: 0.9375\n",
      "Epoch 40/50\n",
      "9/9 [==============================] - 16s - loss: 0.3345 - acc: 0.8595 - val_loss: 1.1807 - val_acc: 0.5625\n",
      "Epoch 41/50\n",
      "9/9 [==============================] - 16s - loss: 0.3680 - acc: 0.8472 - val_loss: 0.3275 - val_acc: 1.0000\n",
      "Epoch 42/50\n",
      "9/9 [==============================] - 17s - loss: 0.3827 - acc: 0.8264 - val_loss: 0.6694 - val_acc: 0.6250\n",
      "Epoch 43/50\n",
      "9/9 [==============================] - 21s - loss: 0.4800 - acc: 0.7986 - val_loss: 0.9792 - val_acc: 0.5625\n",
      "Epoch 44/50\n",
      "9/9 [==============================] - 17s - loss: 0.3688 - acc: 0.8542 - val_loss: 1.2091 - val_acc: 0.5714\n",
      "Epoch 45/50\n",
      "9/9 [==============================] - 15s - loss: 0.4390 - acc: 0.8103 - val_loss: 0.7248 - val_acc: 0.6875\n",
      "Epoch 46/50\n",
      "9/9 [==============================] - 18s - loss: 0.3678 - acc: 0.8403 - val_loss: 0.2545 - val_acc: 1.0000\n",
      "Epoch 47/50\n",
      "9/9 [==============================] - 16s - loss: 0.3561 - acc: 0.8611 - val_loss: 1.2298 - val_acc: 0.4286\n",
      "Epoch 48/50\n",
      "9/9 [==============================] - 17s - loss: 0.3815 - acc: 0.7986 - val_loss: 0.5766 - val_acc: 0.7500\n",
      "Epoch 49/50\n",
      "9/9 [==============================] - 21s - loss: 0.4421 - acc: 0.7986 - val_loss: 0.5980 - val_acc: 0.6875\n",
      "Epoch 50/50\n",
      "9/9 [==============================] - 14s - loss: 0.3979 - acc: 0.7822 - val_loss: 1.4295 - val_acc: 0.4286\n"
     ]
    },
    {
     "data": {
      "text/plain": [
       "<keras.callbacks.History at 0x7f99a57570d0>"
      ]
     },
     "execution_count": 25,
     "metadata": {},
     "output_type": "execute_result"
    }
   ],
   "source": [
    "model.fit_generator(\n",
    "    train_generator,\n",
    "    steps_per_epoch=nb_train_samples // batch_size,\n",
    "    epochs=epochs,\n",
    "    validation_data=validation_generator,\n",
    "    validation_steps=nb_validation_samples // batch_size)"
   ]
  },
  {
   "cell_type": "markdown",
   "metadata": {},
   "source": [
    "<h4> Saving the Model to Classify the Forged Documnents </h4>"
   ]
  },
  {
   "cell_type": "code",
   "execution_count": null,
   "metadata": {
    "collapsed": true
   },
   "outputs": [],
   "source": [
    "model.save('large_savepoint.h5')"
   ]
  },
  {
   "cell_type": "markdown",
   "metadata": {},
   "source": [
    "<h2 style=\"color:red\"> Testing Phase </h2>"
   ]
  },
  {
   "cell_type": "markdown",
   "metadata": {},
   "source": [
    "<h4>Import Statements</h4>"
   ]
  },
  {
   "cell_type": "code",
   "execution_count": 28,
   "metadata": {
    "collapsed": true
   },
   "outputs": [],
   "source": [
    "from keras.models import load_model\n",
    "import cv2\n",
    "import numpy as np\n",
    "from keras import backend as K"
   ]
  },
  {
   "cell_type": "markdown",
   "metadata": {},
   "source": [
    "<h4>Setting parameters for the input images</h4>"
   ]
  },
  {
   "cell_type": "code",
   "execution_count": 29,
   "metadata": {
    "collapsed": true
   },
   "outputs": [],
   "source": [
    "img_width =  150\n",
    "img_height = 150\n",
    "if K.image_data_format() == 'channels_first':\n",
    "    input_shape = (1,3, img_width, img_height)\n",
    "else:\n",
    "    input_shape = (1,img_width, img_height, 3)\n"
   ]
  },
  {
   "cell_type": "markdown",
   "metadata": {},
   "source": [
    "<h4>Pre-Processing input images</h4>"
   ]
  },
  {
   "cell_type": "code",
   "execution_count": 45,
   "metadata": {
    "collapsed": true
   },
   "outputs": [],
   "source": [
    "#processing input image\n",
    "\n",
    "file=cv2.imread('/home/sreeram_0xb5e/Desktop/Classy/data/validation/real/10.jpg')\n",
    "file=cv2.resize(file,(150,150))\n",
    "file=np.array(file).reshape(input_shape)"
   ]
  },
  {
   "cell_type": "markdown",
   "metadata": {},
   "source": [
    "<h4>Pre-Processing input images</h4>"
   ]
  },
  {
   "cell_type": "code",
   "execution_count": 46,
   "metadata": {},
   "outputs": [
    {
     "name": "stdout",
     "output_type": "stream",
     "text": [
      "[[ 0.80295151]]\n"
     ]
    }
   ],
   "source": [
    "#Predicting the input image\n",
    "model = load_model('savepoint.h5')\n",
    "yFit = model.predict(file, batch_size = 1)\n",
    "print(yFit)"
   ]
  }
 ],
 "metadata": {
  "kernelspec": {
   "display_name": "Python 2",
   "language": "python",
   "name": "python2"
  },
  "language_info": {
   "codemirror_mode": {
    "name": "ipython",
    "version": 2
   },
   "file_extension": ".py",
   "mimetype": "text/x-python",
   "name": "python",
   "nbconvert_exporter": "python",
   "pygments_lexer": "ipython2",
   "version": "2.7.13"
  }
 },
 "nbformat": 4,
 "nbformat_minor": 2
}
